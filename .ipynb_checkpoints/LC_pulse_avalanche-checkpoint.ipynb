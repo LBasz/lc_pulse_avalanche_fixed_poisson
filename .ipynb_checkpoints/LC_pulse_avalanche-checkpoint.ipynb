{
 "cells": [
  {
   "cell_type": "code",
   "execution_count": 1,
   "metadata": {},
   "outputs": [],
   "source": [
    "from math import exp, log\n",
    "import inspect\n",
    "from scipy.stats import loguniform\n",
    "from numpy.random import exponential, uniform, lognormal, normal\n",
    "import numpy as np\n",
    "import matplotlib.pyplot as plt\n",
    "import pylab as pl\n"
   ]
  },
  {
   "cell_type": "markdown",
   "metadata": {},
   "source": [
    "### Stern & Svensson, ApJ, 469: L109 (1996)"
   ]
  },
  {
   "cell_type": "code",
   "execution_count": 17,
   "metadata": {},
   "outputs": [],
   "source": [
    "class LC(object):\n",
    "    \n",
    "    def __init__(self, mu=1.2, mu0=1, alpha=4, delta1=-0.5, delta2=0, tau_min=0.2, tau_max=26, \\\n",
    "                 t_min=-10, t_max=1000, res=0.256, eff_area=3600, verbose=False):\n",
    "        \n",
    "        self._mu = mu # parameter from Stern & Svensson (1996)\n",
    "        self._mu0 = mu0 # parameter from Stern & Svensson (1996)\n",
    "        self._alpha = alpha # parameter from Stern & Svensson (1996)\n",
    "        self._delta1 = delta1 # parameter from Stern & Svensson (1996)\n",
    "        self._delta2 = delta2 # parameter from Stern & Svensson (1996)\n",
    "        self._tau_min = tau_min # parameter from Stern & Svensson (1996)\n",
    "        self._tau_max = tau_max # parameter from Stern & Svensson (1996)\n",
    "        self._eff_area = eff_area # detector effective area, cm^2\n",
    "        self._coeff = self._eff_area/150 # ratio of Galileo to KW effective areas\n",
    "        self._bg = 1600 * self._coeff # KW bg level in G1+G2 @ 70.000 km orbit, cnts/s\n",
    "        self._photon_rate = 0.65 # conversion factor from ergs/cm^2/s to photons/cm^2/s\n",
    "        self._verbose = verbose\n",
    "        self._res = res # lc time resolution\n",
    "        self._n = int(np.ceil((t_max - t_min)/self._res)) + 1\n",
    "        # t_min and t_max are the start and the end times of the simulated light curve\n",
    "        self._t_max = (self._n - 1) * self._res + t_min\n",
    "        self._times, self._step = np.linspace(t_min, self._t_max, self._n, retstep=True)\n",
    "        self._rates = np.zeros(len(self._times))\n",
    "        self._sp_pulse = np.zeros(len(self._times))\n",
    "        self._total_rates = np.zeros(len(self._times))\n",
    "        \n",
    "        if self._verbose:\n",
    "            print(\"Time resolution: \", self._step)\n",
    "                \n",
    "        \n",
    "    def norris_pulse(self, norm, tp, tau, tau_r):\n",
    "        \"\"\"\n",
    "        Norris te al., ApJ, 459, 393 (1996)\n",
    "        :t: times (lc x-axis), vector\n",
    "        :tp: pulse peak time, scalar\n",
    "        :tau: pulse width (decay rime), scalar\n",
    "        tau_r: rise time, scalar\n",
    "        :returns: an array of count rates\n",
    "        \"\"\"\n",
    "\n",
    "        if self._verbose:\n",
    "            print(\"Generating a new pulse with tau={:0.3f}\".format(tau))\n",
    "\n",
    "        t = self._times \n",
    "        _tp = np.ones(len(t))*tp\n",
    "        return np.append(norm * np.exp(-(t[t<=tp]-_tp[t<=tp])**2/tau_r**2), \\\n",
    "                         norm * np.exp(-(t[t>tp]-_tp[t>tp])/tau))\n",
    "    \n",
    "    \n",
    "    def _rec_gen_pulse(self, tau1):\n",
    "        \"\"\"\n",
    "        Recursively generating pulses from Norris function\n",
    "        \n",
    "        :tau1: parent pulse width (decay rime), scalar\n",
    "        \"\"\"\n",
    "        \n",
    "        # number of baby pulses: p2(mu_b) = exp(-mu_b/mu)/mu, mu - the average, mu_b - number of baby pulses\n",
    "        mu_b = round(exponential(scale=self._mu))\n",
    "                \n",
    "        if self._verbose:\n",
    "            print(\"Number of pulses:\", mu_b)\n",
    "            print(\"--------------------------------------------------------------------------\")\n",
    "        \n",
    "        for i in range(mu_b):\n",
    "           \n",
    "            # time const of the baby pulse: p4(tau/tau1) = 1/(delta2 - delta1), tau1 - time const of the parent pulse\n",
    "            tau = tau1 * exp(uniform(low=self._delta1, high=self._delta2))\n",
    "            \n",
    "            tau_r = 0.5 * tau\n",
    "            \n",
    "            # time delay of baby pulse: p3(delta_t) = exp(-delta_t/(alpha*tau))/(alpha*tau), \n",
    "            # alpha - delay parameter, tau - time const of the baby pulse\n",
    "            delta_t = exponential(scale=self._alpha*tau)\n",
    "            \n",
    "            norm = uniform(low=0.0, high=1)\n",
    "            \n",
    "            self._rates += self.norris_pulse(norm, delta_t, tau, tau_r) \n",
    "            \n",
    "            if self._verbose:\n",
    "                print(\"Pulse amplitude: {:0.3f}\".format(norm))\n",
    "                print(\"Pulse shift: {:0.3f}\".format(delta_t))\n",
    "                print(\"Time constant (the decay time): {0:0.3f}\".format(tau))\n",
    "                print(\"Rise time: {:0.3f}\".format(tau_r))\n",
    "                print(\"--------------------------------------------------------------------------\")\n",
    "                \n",
    "            if tau > self._res:\n",
    "                self._rec_gen_pulse(tau)\n",
    "                \n",
    "        return self._rates\n",
    "        \n",
    "    \n",
    "    def generate_avalanche(self):\n",
    "        \"\"\"\n",
    "        Generating pulse avalanche\n",
    "        \"\"\"\n",
    "        \n",
    "        if self._verbose:\n",
    "            inspect.getdoc(self.generate_avalanche)\n",
    "            \n",
    "        \"\"\"\n",
    "        Starting pulse avalanche\n",
    "        \"\"\"\n",
    "   \n",
    "        # number of spontaneous primary pulses: p5(mu_s) = exp(-mu_s/mu0)/mu0\n",
    "        mu_s = round(exponential(scale=self._mu0))\n",
    "        if mu_s == 0:  mu_s = 1 \n",
    "            \n",
    "        if self._verbose:\n",
    "            print(\"Number of spontaneous pulses:\", mu_s)\n",
    "            print(\"--------------------------------------------------------------------------\")\n",
    "        \n",
    "        for i in range(mu_s):\n",
    "            # time constant of spontaneous pulses: p6(log tau0) = 1/(log tau_max - log tau_min)\n",
    "            # decay time\n",
    "            tau0 = exp(uniform(low=log(self._tau_max), high=log(self._tau_min)))\n",
    "\n",
    "            # rise time\n",
    "            tau_r = 0.5 * tau0\n",
    "\n",
    "            # time delay of spontaneous primary pulses: p7(t) = exp(-t/(alpha*tau0))/(alpha*tau0)\n",
    "            t_delay = exponential(scale=self._alpha*tau0)\n",
    "\n",
    "            # pulse amplitude: p1(A) = 1 in [0, 1]\n",
    "            norm = uniform(low=0.0, high=1) \n",
    "                     \n",
    "            if self._verbose:\n",
    "                print(\"Spontaneous pulse amplitude: {:0.3f}\".format(norm))\n",
    "                print(\"Spontaneous pulse shift: {:0.3f}\".format(t_delay))\n",
    "                print(\"Time constant (the decay time) of spontaneous pulse: {0:0.3f}\".format(tau0))\n",
    "                print(\"Rise time of spontaneous pulse: {:0.3f}\".format(tau_r))\n",
    "                print(\"--------------------------------------------------------------------------\")\n",
    "                \n",
    "            self._sp_pulse += self.norris_pulse(norm, t_delay, tau0, tau_r)\n",
    "            \n",
    "            self._rec_gen_pulse(tau0)\n",
    "        \n",
    "        # lc directly from the avalanche\n",
    "        self._raw_lc = self._sp_pulse + self._rates\n",
    "        \n",
    "        cnt_flux_low = self._photon_rate * self._eff_area / self._raw_lc.max()\n",
    "        cnt_flux_high = 2e3 * cnt_flux_low\n",
    "        population = np.geomspace(cnt_flux_low, cnt_flux_high, 1000)\n",
    "        weights = list(map(lambda x: x**(-3/2), population))\n",
    "        weights = weights / np.sum(weights)\n",
    "        ampl = np.random.choice(population, p=weights)\n",
    "        \n",
    "        # lc from avalanche scaled + Poissonian bg added\n",
    "        self._plot_lc = self._raw_lc * ampl + np.random.default_rng().poisson((self._bg), self._n)\n",
    "        \n",
    "        self._get_lc_properties()\n",
    "\n",
    "    \n",
    "    def plot_lc(self, rescale=True):\n",
    "        \"\"\"\n",
    "        Plotting light curve\n",
    "        \n",
    "        :rescale: to rescale the x-axis plotting only lc around T100, bool\n",
    "        \"\"\"\n",
    "        \n",
    "        plt.step(self._times, self._plot_lc)\n",
    "        \n",
    "        if rescale:\n",
    "            t_i = self._t_start - 0.3*self._t100\n",
    "            t_f = self._t_stop + 0.3*self._t100\n",
    "            plt.xlim([t_i, t_f])\n",
    "        \n",
    "    \n",
    "    def _get_lc_properties(self):\n",
    "        \"\"\"\n",
    "        Calculaing T90 duration and other parameters\n",
    "        \"\"\"\n",
    "        \n",
    "        self._aux_times = self._times[self._raw_lc>self._raw_lc.max()*1e-4]\n",
    "        self._aux_lc = self._plot_lc[self._raw_lc>self._raw_lc.max()*1e-4]\n",
    "        \n",
    "        self._t_start = self._aux_times[0]\n",
    "        self._t_stop = self._aux_times[-1]\n",
    "        self._t100 = self._t_stop - self._t_start\n",
    "        self._total_cnts = np.sum(self._aux_lc)\n",
    "                                     \n",
    "        sum_cnt = 0\n",
    "        i = 0\n",
    "        while sum_cnt < 0.05 * self._total_cnts:\n",
    "            sum_cnt += self._aux_lc[i]                \n",
    "            i += 1\n",
    "        self._t90_i = self._aux_times[i]\n",
    "                                     \n",
    "        sum_cnt = 0\n",
    "        j = -1\n",
    "        while sum_cnt < 0.05 * self._total_cnts:\n",
    "            sum_cnt += self._aux_lc[j]                \n",
    "            j -= 1\n",
    "        self._t90_f = self._aux_times[j]                             \n",
    "        \n",
    "        self._t90 = self._t90_f - self._t90_i            \n",
    "        self._t90_cnts = np.sum(self._aux_lc[i:j+1])\n",
    "        \n",
    "       \n",
    "    @property\n",
    "    def T90(self):\n",
    "        return \"{:0.3f}\".format(self._t90), \"{:0.3f}\".format(self._t90_i), \"{:0.3f}\".format(self._t90_f)\n",
    "    \n",
    "    @property\n",
    "    def T100(self):\n",
    "        return \"{:0.3f}\".format(self._t100), \"{:0.3f}\".format(self._t_start), \"{:0.3f}\".format(self._t_stop)\n",
    "    \n",
    "    @property\n",
    "    def total_rate(self):\n",
    "        return \"{:0.2f}\".format(self._total_cnts)\n",
    "    \n",
    "    @property\n",
    "    def peak_rate(self):\n",
    "        return \"{:0.2f}\".format(self._aux_lc.max())\n",
    "    \n",
    "    @property\n",
    "    def mean_rate(self):\n",
    "        return \"{:0.2f}\".format(np.mean(self._aux_lc))\n",
    "    \n",
    "    @property\n",
    "    def bg_rate(self):\n",
    "        return \"{:0.2f}\".format(self._bg)\n"
   ]
  },
  {
   "cell_type": "code",
   "execution_count": 22,
   "metadata": {
    "scrolled": true
   },
   "outputs": [
    {
     "data": {
      "text/plain": [
       "'2.048'"
      ]
     },
     "execution_count": 22,
     "metadata": {},
     "output_type": "execute_result"
    },
    {
     "data": {
      "image/png": "[encoded data removed]",
      "text/plain": [
       "<Figure size 432x288 with 1 Axes>"
      ]
     },
     "metadata": {
      "needs_background": "light"
     },
     "output_type": "display_data"
    }
   ],
   "source": [
    "lc = LC(t_max=50, tau_min=0.04, tau_max=0.3)\n",
    "par = lc.generate_avalanche()\n",
    "lc.plot_lc()\n",
    "lc.T90[0]"
   ]
  },
  {
   "cell_type": "code",
   "execution_count": 19,
   "metadata": {
    "scrolled": true
   },
   "outputs": [
    {
     "data": {
      "image/png": "[encoded data removed]",
      "text/plain": [
       "<Figure size 432x288 with 1 Axes>"
      ]
     },
     "metadata": {
      "needs_background": "light"
     },
     "output_type": "display_data"
    }
   ],
   "source": [
    "lc = LC()\n",
    "par = lc.generate_avalanche()\n",
    "lc.plot_lc()\n"
   ]
  },
  {
   "cell_type": "code",
   "execution_count": 14,
   "metadata": {
    "scrolled": true
   },
   "outputs": [
    {
     "name": "stdout",
     "output_type": "stream",
     "text": [
      "Time resolution:  0.256\n",
      "Number of spontaneous pulses: 1\n",
      "--------------------------------------------------------------------------\n",
      "Spontaneous pulse amplitude: 0.113\n",
      "Spontaneous pulse shift: 14.672\n",
      "Time constant (the decay time) of spontaneous pulse: 2.301\n",
      "Rise time of spontaneous pulse: 1.151\n",
      "--------------------------------------------------------------------------\n",
      "Generating a new pulse with tau=2.301\n",
      "Number of pulses: 0\n",
      "--------------------------------------------------------------------------\n"
     ]
    },
    {
     "data": {
      "image/png": "[encoded data removed]",
      "text/plain": [
       "<Figure size 432x288 with 1 Axes>"
      ]
     },
     "metadata": {
      "needs_background": "light"
     },
     "output_type": "display_data"
    }
   ],
   "source": [
    "lc = LC(verbose=True, t_max=50)\n",
    "par = lc.generate_avalanche()\n",
    "lc.plot_lc()"
   ]
  },
  {
   "cell_type": "code",
   "execution_count": 172,
   "metadata": {
    "scrolled": true
   },
   "outputs": [
    {
     "name": "stdout",
     "output_type": "stream",
     "text": [
      "Number of spontaneous pulses: 1\n",
      "--------------------------------------------------------------------------\n",
      "Spontaneous pulse amplitude: 0.562\n",
      "Spontaneous pulse shift: 13.780\n",
      "Time constant (the decay time) of spontaneous pulse: 1.810\n",
      "Rise time of spontaneous pulse: 0.905\n",
      "--------------------------------------------------------------------------\n",
      "Generating a new pulse with tau=1.81001502289273\n",
      "Number of pulses: 2\n",
      "--------------------------------------------------------------------------\n",
      "Generating a new pulse with tau=1.3440691889805902\n",
      "Pulse amplitude: 0.517\n",
      "Pulse shift: 0.060\n",
      "Time constant (the decay time): 1.344\n",
      "Rise time: 0.672\n",
      "--------------------------------------------------------------------------\n",
      "Number of pulses: 2\n",
      "--------------------------------------------------------------------------\n",
      "Generating a new pulse with tau=1.0288903821197795\n",
      "Pulse amplitude: 0.017\n",
      "Pulse shift: 1.094\n",
      "Time constant (the decay time): 1.029\n",
      "Rise time: 0.514\n",
      "--------------------------------------------------------------------------\n",
      "Number of pulses: 1\n",
      "--------------------------------------------------------------------------\n",
      "Generating a new pulse with tau=0.9139229218432177\n",
      "Pulse amplitude: 0.624\n",
      "Pulse shift: 1.627\n",
      "Time constant (the decay time): 0.914\n",
      "Rise time: 0.457\n",
      "--------------------------------------------------------------------------\n",
      "Number of pulses: 0\n",
      "--------------------------------------------------------------------------\n",
      "Generating a new pulse with tau=1.2318950668907676\n",
      "Pulse amplitude: 0.679\n",
      "Pulse shift: 2.225\n",
      "Time constant (the decay time): 1.232\n",
      "Rise time: 0.616\n",
      "--------------------------------------------------------------------------\n",
      "Number of pulses: 0\n",
      "--------------------------------------------------------------------------\n",
      "Generating a new pulse with tau=1.343095976781719\n",
      "Pulse amplitude: 0.922\n",
      "Pulse shift: 14.180\n",
      "Time constant (the decay time): 1.343\n",
      "Rise time: 0.672\n",
      "--------------------------------------------------------------------------\n",
      "Number of pulses: 1\n",
      "--------------------------------------------------------------------------\n",
      "Generating a new pulse with tau=1.2800353000029487\n",
      "Pulse amplitude: 0.709\n",
      "Pulse shift: 5.185\n",
      "Time constant (the decay time): 1.280\n",
      "Rise time: 0.640\n",
      "--------------------------------------------------------------------------\n",
      "Number of pulses: 0\n",
      "--------------------------------------------------------------------------\n"
     ]
    },
    {
     "data": {
      "image/png": "[encoded data removed]",
      "text/plain": [
       "<Figure size 432x288 with 1 Axes>"
      ]
     },
     "metadata": {
      "needs_background": "light"
     },
     "output_type": "display_data"
    }
   ],
   "source": [
    "lc = LC(verbose=True, t_max=50)\n",
    "par = lc.generate_avalanche()\n",
    "lc.plot_lc()"
   ]
  }
 ],
 "metadata": {
  "kernelspec": {
   "display_name": "Python 3",
   "language": "python",
   "name": "python3"
  },
  "language_info": {
   "codemirror_mode": {
    "name": "ipython",
    "version": 3
   },
   "file_extension": ".py",
   "mimetype": "text/x-python",
   "name": "python",
   "nbconvert_exporter": "python",
   "pygments_lexer": "ipython3",
   "version": "3.8.5"
  }
 },
 "nbformat": 4,
 "nbformat_minor": 4
}
