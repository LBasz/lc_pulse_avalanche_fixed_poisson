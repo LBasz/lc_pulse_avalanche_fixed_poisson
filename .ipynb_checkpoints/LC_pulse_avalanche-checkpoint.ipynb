{
 "cells": [
  {
   "cell_type": "code",
   "execution_count": 1,
   "metadata": {},
   "outputs": [],
   "source": [
    "__author__ = 'Anastasia Tsvetkova'\n",
    "__email__  = 'tsvetkova.lea@gmail.com'\n",
    "\n",
    "import yaml\n",
    "from avalanche import LC, Restored_LC"
   ]
  },
  {
   "cell_type": "markdown",
   "metadata": {},
   "source": [
    "### Let's open a yaml-file with avalanches and find the max count rate (with background rate icluded) for the sample"
   ]
  },
  {
   "cell_type": "code",
   "execution_count": 2,
   "metadata": {},
   "outputs": [],
   "source": [
    "with open(\"/home/anastasia/work/Galileo/avalanche_parameters.yml\", 'r') as f:\n",
    "        loaded_data = yaml.safe_load(f)"
   ]
  },
  {
   "cell_type": "code",
   "execution_count": 3,
   "metadata": {},
   "outputs": [
    {
     "data": {
      "text/plain": [
       "181701.85"
      ]
     },
     "execution_count": 3,
     "metadata": {},
     "output_type": "execute_result"
    }
   ],
   "source": [
    "max_pf = 0\n",
    "max_name = str()\n",
    "\n",
    "for name in loaded_data:\n",
    "    par_list = list(name.values())[0]\n",
    "    lc = Restored_LC(par_list)\n",
    "    lc.restore_lc()\n",
    "    # lc.plot_lc()\n",
    "    pf = float(lc.max_rate)\n",
    "    if pf > max_pf:\n",
    "        max_pf = pf\n",
    "        max_name = name\n",
    "        \n",
    "max_pf"
   ]
  },
  {
   "cell_type": "markdown",
   "metadata": {},
   "source": [
    "### Let's generate several light curves"
   ]
  },
  {
   "cell_type": "code",
   "execution_count": 15,
   "metadata": {
    "scrolled": true
   },
   "outputs": [
    {
     "data": {
      "image/png": "[encoded data removed]",
      "text/plain": [
       "<Figure size 432x288 with 1 Axes>"
      ]
     },
     "metadata": {
      "needs_background": "light"
     },
     "output_type": "display_data"
    }
   ],
   "source": [
    "lc = LC()\n",
    "par = lc.generate_avalanche()\n",
    "lc.plot_lc()"
   ]
  },
  {
   "cell_type": "code",
   "execution_count": 11,
   "metadata": {},
   "outputs": [
    {
     "data": {
      "image/png": "[encoded data removed]",
      "text/plain": [
       "<Figure size 432x288 with 1 Axes>"
      ]
     },
     "metadata": {
      "needs_background": "light"
     },
     "output_type": "display_data"
    }
   ],
   "source": [
    "lc = LC()\n",
    "par = lc.generate_avalanche()\n",
    "lc.plot_lc()"
   ]
  },
  {
   "cell_type": "code",
   "execution_count": 14,
   "metadata": {
    "scrolled": false
   },
   "outputs": [
    {
     "name": "stdout",
     "output_type": "stream",
     "text": [
      "Time resolution:  0.256\n",
      "Number of spontaneous pulses: 2\n",
      "--------------------------------------------------------------------------\n",
      "Spontaneous pulse amplitude: 0.822\n",
      "Spontaneous pulse shift: 1.470\n",
      "Time constant (the decay time) of spontaneous pulse: 1.869\n",
      "Rise time of spontaneous pulse: 0.934\n",
      "--------------------------------------------------------------------------\n",
      "Generating a new pulse with tau=1.869\n",
      "Number of pulses: 4\n",
      "--------------------------------------------------------------------------\n",
      "Generating a new pulse with tau=1.362\n",
      "Pulse amplitude: 0.071\n",
      "Pulse shift: 9.343\n",
      "Time constant (the decay time): 1.362\n",
      "Rise time: 0.681\n",
      "--------------------------------------------------------------------------\n",
      "Number of pulses: 0\n",
      "--------------------------------------------------------------------------\n",
      "Generating a new pulse with tau=1.399\n",
      "Pulse amplitude: 0.513\n",
      "Pulse shift: 5.859\n",
      "Time constant (the decay time): 1.399\n",
      "Rise time: 0.699\n",
      "--------------------------------------------------------------------------\n",
      "Number of pulses: 0\n",
      "--------------------------------------------------------------------------\n",
      "Generating a new pulse with tau=1.328\n",
      "Pulse amplitude: 0.725\n",
      "Pulse shift: 2.012\n",
      "Time constant (the decay time): 1.328\n",
      "Rise time: 0.664\n",
      "--------------------------------------------------------------------------\n",
      "Number of pulses: 1\n",
      "--------------------------------------------------------------------------\n",
      "Generating a new pulse with tau=1.019\n",
      "Pulse amplitude: 0.386\n",
      "Pulse shift: 5.266\n",
      "Time constant (the decay time): 1.019\n",
      "Rise time: 0.510\n",
      "--------------------------------------------------------------------------\n",
      "Number of pulses: 1\n",
      "--------------------------------------------------------------------------\n",
      "Generating a new pulse with tau=0.647\n",
      "Pulse amplitude: 0.963\n",
      "Pulse shift: 7.167\n",
      "Time constant (the decay time): 0.647\n",
      "Rise time: 0.323\n",
      "--------------------------------------------------------------------------\n",
      "Number of pulses: 1\n",
      "--------------------------------------------------------------------------\n",
      "Generating a new pulse with tau=0.584\n",
      "Pulse amplitude: 0.799\n",
      "Pulse shift: 7.921\n",
      "Time constant (the decay time): 0.584\n",
      "Rise time: 0.292\n",
      "--------------------------------------------------------------------------\n",
      "Number of pulses: 3\n",
      "--------------------------------------------------------------------------\n",
      "Generating a new pulse with tau=0.517\n",
      "Pulse amplitude: 0.506\n",
      "Pulse shift: 9.065\n",
      "Time constant (the decay time): 0.517\n",
      "Rise time: 0.258\n",
      "--------------------------------------------------------------------------\n",
      "Number of pulses: 1\n",
      "--------------------------------------------------------------------------\n",
      "Generating a new pulse with tau=0.397\n",
      "Pulse amplitude: 0.226\n",
      "Pulse shift: 9.925\n",
      "Time constant (the decay time): 0.397\n",
      "Rise time: 0.199\n",
      "--------------------------------------------------------------------------\n",
      "Number of pulses: 0\n",
      "--------------------------------------------------------------------------\n",
      "Generating a new pulse with tau=0.501\n",
      "Pulse amplitude: 0.168\n",
      "Pulse shift: 10.204\n",
      "Time constant (the decay time): 0.501\n",
      "Rise time: 0.251\n",
      "--------------------------------------------------------------------------\n",
      "Number of pulses: 0\n",
      "--------------------------------------------------------------------------\n",
      "Generating a new pulse with tau=0.535\n",
      "Pulse amplitude: 0.751\n",
      "Pulse shift: 8.662\n",
      "Time constant (the decay time): 0.535\n",
      "Rise time: 0.267\n",
      "--------------------------------------------------------------------------\n",
      "Number of pulses: 2\n",
      "--------------------------------------------------------------------------\n",
      "Generating a new pulse with tau=0.368\n",
      "Pulse amplitude: 0.693\n",
      "Pulse shift: 8.685\n",
      "Time constant (the decay time): 0.368\n",
      "Rise time: 0.184\n",
      "--------------------------------------------------------------------------\n",
      "Number of pulses: 4\n",
      "--------------------------------------------------------------------------\n",
      "Generating a new pulse with tau=0.281\n",
      "Pulse amplitude: 0.240\n",
      "Pulse shift: 10.105\n",
      "Time constant (the decay time): 0.281\n",
      "Rise time: 0.141\n",
      "--------------------------------------------------------------------------\n",
      "Number of pulses: 0\n",
      "--------------------------------------------------------------------------\n",
      "Generating a new pulse with tau=0.367\n",
      "Pulse amplitude: 0.572\n",
      "Pulse shift: 9.217\n",
      "Time constant (the decay time): 0.367\n",
      "Rise time: 0.184\n",
      "--------------------------------------------------------------------------\n",
      "Number of pulses: 1\n",
      "--------------------------------------------------------------------------\n",
      "Generating a new pulse with tau=0.251\n",
      "Pulse amplitude: 0.044\n",
      "Pulse shift: 9.393\n",
      "Time constant (the decay time): 0.251\n",
      "Rise time: 0.126\n",
      "--------------------------------------------------------------------------\n",
      "Generating a new pulse with tau=0.251\n",
      "Pulse amplitude: 0.589\n",
      "Pulse shift: 8.979\n",
      "Time constant (the decay time): 0.251\n",
      "Rise time: 0.126\n",
      "--------------------------------------------------------------------------\n",
      "Generating a new pulse with tau=0.305\n",
      "Pulse amplitude: 0.315\n",
      "Pulse shift: 9.269\n",
      "Time constant (the decay time): 0.305\n",
      "Rise time: 0.152\n",
      "--------------------------------------------------------------------------\n",
      "Number of pulses: 0\n",
      "--------------------------------------------------------------------------\n",
      "Generating a new pulse with tau=0.327\n",
      "Pulse amplitude: 0.158\n",
      "Pulse shift: 12.372\n",
      "Time constant (the decay time): 0.327\n",
      "Rise time: 0.163\n",
      "--------------------------------------------------------------------------\n",
      "Number of pulses: 1\n",
      "--------------------------------------------------------------------------\n",
      "Generating a new pulse with tau=0.326\n",
      "Pulse amplitude: 0.461\n",
      "Pulse shift: 12.786\n",
      "Time constant (the decay time): 0.326\n",
      "Rise time: 0.163\n",
      "--------------------------------------------------------------------------\n",
      "Number of pulses: 1\n",
      "--------------------------------------------------------------------------\n",
      "Generating a new pulse with tau=0.310\n",
      "Pulse amplitude: 0.196\n",
      "Pulse shift: 14.923\n",
      "Time constant (the decay time): 0.310\n",
      "Rise time: 0.155\n",
      "--------------------------------------------------------------------------\n",
      "Number of pulses: 0\n",
      "--------------------------------------------------------------------------\n",
      "Generating a new pulse with tau=1.188\n",
      "Pulse amplitude: 0.902\n",
      "Pulse shift: 1.996\n",
      "Time constant (the decay time): 1.188\n",
      "Rise time: 0.594\n",
      "--------------------------------------------------------------------------\n",
      "Number of pulses: 0\n",
      "--------------------------------------------------------------------------\n",
      "Spontaneous pulse amplitude: 0.150\n",
      "Spontaneous pulse shift: 8.161\n",
      "Time constant (the decay time) of spontaneous pulse: 0.640\n",
      "Rise time of spontaneous pulse: 0.320\n",
      "--------------------------------------------------------------------------\n",
      "Generating a new pulse with tau=0.640\n",
      "Number of pulses: 0\n",
      "--------------------------------------------------------------------------\n"
     ]
    },
    {
     "data": {
      "image/png": "[encoded data removed]",
      "text/plain": [
       "<Figure size 432x288 with 1 Axes>"
      ]
     },
     "metadata": {
      "needs_background": "light"
     },
     "output_type": "display_data"
    }
   ],
   "source": [
    "lc = LC(verbose=True)\n",
    "par = lc.generate_avalanche()\n",
    "lc.plot_lc()"
   ]
  }
 ],
 "metadata": {
  "kernelspec": {
   "display_name": "Python 3",
   "language": "python",
   "name": "python3"
  },
  "language_info": {
   "codemirror_mode": {
    "name": "ipython",
    "version": 3
   },
   "file_extension": ".py",
   "mimetype": "text/x-python",
   "name": "python",
   "nbconvert_exporter": "python",
   "pygments_lexer": "ipython3",
   "version": "3.8.5"
  }
 },
 "nbformat": 4,
 "nbformat_minor": 4
}
